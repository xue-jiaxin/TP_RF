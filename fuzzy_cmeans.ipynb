{
 "cells": [
  {
   "cell_type": "code",
   "execution_count": 4,
   "metadata": {},
   "outputs": [],
   "source": [
    "import numpy as np"
   ]
  },
  {
   "cell_type": "code",
   "execution_count": 40,
   "metadata": {},
   "outputs": [
    {
     "name": "stdout",
     "output_type": "stream",
     "text": [
      "(1000, 2)\n"
     ]
    }
   ],
   "source": [
    "num_smaple = 1000\n",
    "\n",
    "X = np.concatenate((np.random.normal(0, 1, size=(num_smaple//2, 2)), np.random.normal(2, 1, size=(num_smaple//2, 2))))\n",
    "\n",
    "print(X.shape)"
   ]
  },
  {
   "cell_type": "code",
   "execution_count": 87,
   "metadata": {},
   "outputs": [],
   "source": [
    "def distance(a, b):\n",
    "    return np.linalg.norm(a-b)\n",
    "\n",
    "def matrix_membership(U, X, C, m):\n",
    "    #print(U.shape, X.shape, len(C))\n",
    "    U_new = np.zeros(shape=U.shape)\n",
    "    #print(U_new.shape)\n",
    "    for i in range(U.shape[0]):\n",
    "        for j in range(U.shape[1]):\n",
    "            dis_ij = distance(X[i], C[j])\n",
    "            for k in range(U.shape[1]):\n",
    "                U_new[i,j] += pow((dis_ij / (distance(X[i], C[k]) + 1e-16)), 2/(m-1))\n",
    "            U_new[i,j] = 1/U_new[i,j]\n",
    "    return U_new\n",
    "\n",
    "def cal_C(U, X, m):\n",
    "    C = []\n",
    "    for j in range(U.shape[-1]):\n",
    "        count = 0\n",
    "        for i in range(U.shape[0]):\n",
    "            count += U[i,j]**m * X[i]\n",
    "        C.append(count/np.sum(U[:,j]**m))\n",
    "    return C"
   ]
  },
  {
   "cell_type": "code",
   "execution_count": 88,
   "metadata": {},
   "outputs": [],
   "source": [
    "def FuzzyCMeans(X, num_cluster=2, epslon=1e-4, m=2):\n",
    "    #init C_0\n",
    "    index = np.random.randint(low=0, high=X.shape[0], size=num_cluster).tolist()\n",
    "    U = np.random.rand(X.shape[0], num_cluster)\n",
    "    U = U / U.sum(axis=1)[:,None]\n",
    "\n",
    "    for i in range(100):\n",
    "        #print(f\" iter {i}\")\n",
    "\n",
    "        C = cal_C(U, X, m)\n",
    "        #print(C)\n",
    "        U_new = matrix_membership(U, X, C, m)\n",
    "        if distance(U, U_new) <= epslon:\n",
    "            return C, U_new\n",
    "        else:\n",
    "            U = U_new\n",
    "    return C, U_new"
   ]
  },
  {
   "cell_type": "code",
   "execution_count": 89,
   "metadata": {},
   "outputs": [
    {
     "data": {
      "text/plain": [
       "([array([-0.13983674, -0.02413759]), array([2.08903461, 2.10528123])],\n",
       " array([[0.98193046, 0.01806954],\n",
       "        [0.8411341 , 0.1588659 ],\n",
       "        [0.99246466, 0.00753534],\n",
       "        ...,\n",
       "        [0.08716227, 0.91283773],\n",
       "        [0.01189155, 0.98810845],\n",
       "        [0.09652438, 0.90347562]]))"
      ]
     },
     "execution_count": 89,
     "metadata": {},
     "output_type": "execute_result"
    }
   ],
   "source": [
    "FuzzyCMeans(X, 2)"
   ]
  },
  {
   "cell_type": "code",
   "execution_count": 90,
   "metadata": {},
   "outputs": [
    {
     "data": {
      "image/png": "[encoded data removed]",
      "text/plain": [
       "<PIL.Image.Image image mode=1 size=64x64 at 0x7FD67BC00AC0>"
      ]
     },
     "execution_count": 90,
     "metadata": {},
     "output_type": "execute_result"
    }
   ],
   "source": [
    "from PIL import Image\n",
    "\n",
    "im = Image.open('im2.png').resize((64, 64)).convert('1')\n",
    "im"
   ]
  },
  {
   "cell_type": "code",
   "execution_count": 91,
   "metadata": {},
   "outputs": [
    {
     "data": {
      "text/plain": [
       "(4096, 1)"
      ]
     },
     "execution_count": 91,
     "metadata": {},
     "output_type": "execute_result"
    }
   ],
   "source": [
    "im = np.array(im).reshape(-1, 1)\n",
    "im.shape"
   ]
  },
  {
   "cell_type": "code",
   "execution_count": 92,
   "metadata": {},
   "outputs": [
    {
     "name": "stderr",
     "output_type": "stream",
     "text": [
      "<ipython-input-87-cbba021b4589>:21: RuntimeWarning: overflow encountered in double_scalars\n",
      "  count += U[i,j]**m * X[i]\n",
      "<ipython-input-87-cbba021b4589>:21: RuntimeWarning: invalid value encountered in multiply\n",
      "  count += U[i,j]**m * X[i]\n",
      "<ipython-input-87-cbba021b4589>:22: RuntimeWarning: overflow encountered in square\n",
      "  C.append(count/np.sum(U[:,j]**m))\n"
     ]
    }
   ],
   "source": [
    "C, U_new = FuzzyCMeans(im, 3)"
   ]
  },
  {
   "cell_type": "code",
   "execution_count": null,
   "metadata": {},
   "outputs": [],
   "source": [
    "U = U_new\n",
    "for i in U:\n",
    "    if U[i][0] :\n",
    "        im[i] = 0\n",
    "\n",
    "    elif U[i][1] :\n",
    "        im[i] = 128\n",
    "\n",
    "    elif U[i][2] :\n",
    "        im[i] = 255\n",
    "\n",
    "im = im.reshape(128,128,1)\n",
    "\n",
    "from matplotlib import cm\n",
    "im = Image.fromarray(im)"
   ]
  }
 ],
 "metadata": {
  "interpreter": {
   "hash": "40d3a090f54c6569ab1632332b64b2c03c39dcf918b08424e98f38b5ae0af88f"
  },
  "kernelspec": {
   "display_name": "Python 3.8.5 64-bit (conda)",
   "name": "python3"
  },
  "language_info": {
   "codemirror_mode": {
    "name": "ipython",
    "version": 3
   },
   "file_extension": ".py",
   "mimetype": "text/x-python",
   "name": "python",
   "nbconvert_exporter": "python",
   "pygments_lexer": "ipython3",
   "version": "3.8.5"
  },
  "orig_nbformat": 4
 },
 "nbformat": 4,
 "nbformat_minor": 2
}
