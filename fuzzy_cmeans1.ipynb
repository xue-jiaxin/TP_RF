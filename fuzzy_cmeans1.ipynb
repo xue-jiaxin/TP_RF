{
 "cells": [
  {
   "cell_type": "code",
   "execution_count": 2,
   "metadata": {},
   "outputs": [],
   "source": [
    "import numpy as np\n",
    "import cv2\n",
    "import matplotlib.pyplot as plt"
   ]
  },
  {
   "cell_type": "code",
   "execution_count": null,
   "metadata": {},
   "outputs": [],
   "source": [
    "class FCM():\n",
    "    def __init__(self, X, num_clusters=3, m=1.2, epslon=1e-5, max_iter=100, dis_fn = np.linalg.norm) -> None:\n",
    "        self.U = self.initialize_U(self)\n",
    "        self.X = X\n",
    "        self.C = self.cal_C(self)\n",
    "        self.num_clusters = num_clusters\n",
    "        self.m = m\n",
    "        self.dis_fn = dis_fn\n",
    "        self.epslon = epslon\n",
    "        self.max_iter = max_iter\n",
    "\n",
    "    def initialize_U(self):\n",
    "        self.U = np.random.rand(self.X.shape[0], self.num_cluster)\n",
    "        self.U = self.U / self.U.sum(axis=1)[:,None]\n",
    "\n",
    "    def cal_C(self):\n",
    "        #self.C = np.sum(self.U**self.m * self.X, axis=1)/np.sum(self.U**self.m, axis=1)\n",
    "        self.C = np.dot(self.X, self.U) / np.sum(self.U, axis=0)\n",
    "\n",
    "    def update_U(self):\n",
    "        power = 2. / (self.m-1)\n",
    "\n",
    "        c, x = np.meshgrid(self.C, self.X)\n",
    "\n",
    "        numerator = self.dis_fn(x - c) ** power\n",
    "        denominator = np.sum(1. / self.dis_fn(x - c)**power, axis=1)\n",
    "        return 1./(numerator*denominator[:,None])\n",
    "        \n",
    "\n"
   ]
  },
  {
   "cell_type": "code",
   "execution_count": null,
   "metadata": {},
   "outputs": [],
   "source": []
  }
 ],
 "metadata": {
  "interpreter": {
   "hash": "40d3a090f54c6569ab1632332b64b2c03c39dcf918b08424e98f38b5ae0af88f"
  },
  "kernelspec": {
   "display_name": "Python 3.8.5 64-bit (conda)",
   "name": "python3"
  },
  "language_info": {
   "codemirror_mode": {
    "name": "ipython",
    "version": 3
   },
   "file_extension": ".py",
   "mimetype": "text/x-python",
   "name": "python",
   "nbconvert_exporter": "python",
   "pygments_lexer": "ipython3",
   "version": "3.8.5"
  },
  "orig_nbformat": 4
 },
 "nbformat": 4,
 "nbformat_minor": 2
}
