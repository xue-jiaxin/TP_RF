{
 "cells": [
  {
   "cell_type": "code",
   "execution_count": 1,
   "metadata": {},
   "outputs": [],
   "source": [
    "from itertools import chain, combinations\n",
    "\n",
    "def powerset(iterable):\n",
    "    \"powerset([1,2,3]) --> () (1,) (2,) (3,) (1,2) (1,3) (2,3) (1,2,3)\"\n",
    "    s = list(iterable)\n",
    "    return chain.from_iterable(combinations(s, r) for r in range(len(s)+1))"
   ]
  },
  {
   "cell_type": "code",
   "execution_count": 27,
   "metadata": {},
   "outputs": [],
   "source": [
    "m1 ={'P': 0,\n",
    "     'J':0,\n",
    "     'M':0,\n",
    "     'PJ':0.5,\n",
    "     'JM': 0.2,\n",
    "     'PM': 0,\n",
    "     \"PJM\": 0.3,\n",
    "     }\n",
    "\n",
    "m2 ={'P': 0.6,\n",
    "     'J':0,\n",
    "     'M':0,\n",
    "     'PJ':0,\n",
    "     'JM': 0,\n",
    "     'PM': 0,\n",
    "     \"PJM\": 0.4,\n",
    "     }"
   ]
  },
  {
   "cell_type": "code",
   "execution_count": 28,
   "metadata": {},
   "outputs": [],
   "source": [
    "def epslon(dic):\n",
    "    result = {}\n",
    "    for key,value in dic.items():\n",
    "        if value != 0:\n",
    "            result[key] = dic[key]\n",
    "    return result"
   ]
  },
  {
   "cell_type": "code",
   "execution_count": 24,
   "metadata": {},
   "outputs": [],
   "source": [
    "def cal_bel(m, epslon):\n",
    "    results = {}\n",
    "    for key, value in m.items():\n",
    "        count = 0\n",
    "        for k, v in epslon.items():\n",
    "            if k in key:\n",
    "                count += v\n",
    "        results[key] = count\n",
    "    return results\n",
    "        "
   ]
  },
  {
   "cell_type": "code",
   "execution_count": 25,
   "metadata": {},
   "outputs": [],
   "source": [
    "def cal_pl(m, epslon):\n",
    "    results = {}\n",
    "    for key, value in m.items():\n",
    "        count = 0\n",
    "        for k, v in epslon.items():\n",
    "            if set(key) & set(k):\n",
    "                count += v\n",
    "        results[key] = count\n",
    "    return results"
   ]
  },
  {
   "cell_type": "code",
   "execution_count": 51,
   "metadata": {},
   "outputs": [],
   "source": [
    "def cal_DS(m1, m2, ep1, ep2,):\n",
    "    result = {}\n",
    "    \n",
    "    for k in m1.keys():\n",
    "        count1 = 0\n",
    "        count2 = 0\n",
    "        for key1 in ep1.keys():\n",
    "            for key2 in ep2.keys():\n",
    "                if set(key1) & set(key2) == set(k):\n",
    "                    count1 += m1[key1] * m2[key2]\n",
    "                elif not set(key1) & set(key2):\n",
    "                    count2 += m1[key1] * m2[key2]\n",
    "\n",
    "\n",
    "        result[k] = count1 / (1-count2)\n",
    "    return result\n",
    "        #            intersection.append(key1, key2)\n"
   ]
  },
  {
   "cell_type": "code",
   "execution_count": 50,
   "metadata": {},
   "outputs": [],
   "source": [
    "ep1 = epslon(m1)\n",
    "ep2 = epslon(m2)\n",
    "\n",
    "bel1 = cal_bel(m1, ep1,)\n",
    "bel2 = cal_bel(m2, ep2,)\n",
    "\n",
    "pl1 = cal_pl(m1, ep1)\n",
    "pl2 = cal_pl(m2, ep2)\n"
   ]
  },
  {
   "cell_type": "code",
   "execution_count": 61,
   "metadata": {},
   "outputs": [],
   "source": [
    "m12 = cal_DS(m1, m2, ep1, ep2,)\n",
    "ep12 = epslon(m12)\n",
    "bel12 = cal_bel(m12, ep12)\n",
    "pl12 = cal_pl(m12, ep12)"
   ]
  },
  {
   "cell_type": "code",
   "execution_count": 62,
   "metadata": {},
   "outputs": [
    {
     "data": {
      "text/plain": [
       "{'P': 0.9090909090909091,\n",
       " 'J': 0.4545454545454546,\n",
       " 'M': 0.2272727272727273,\n",
       " 'PJ': 1.0,\n",
       " 'JM': 0.4545454545454546,\n",
       " 'PM': 1.0,\n",
       " 'PJM': 1.0}"
      ]
     },
     "execution_count": 62,
     "metadata": {},
     "output_type": "execute_result"
    }
   ],
   "source": [
    "pl12"
   ]
  },
  {
   "cell_type": "code",
   "execution_count": 63,
   "metadata": {},
   "outputs": [
    {
     "data": {
      "text/plain": [
       "{'P': 0.5454545454545454,\n",
       " 'J': 0.0,\n",
       " 'M': 0.0,\n",
       " 'PJ': 0.2272727272727273,\n",
       " 'JM': 0.09090909090909093,\n",
       " 'PM': 0.0,\n",
       " 'PJM': 0.13636363636363635}"
      ]
     },
     "execution_count": 63,
     "metadata": {},
     "output_type": "execute_result"
    }
   ],
   "source": [
    "m12"
   ]
  },
  {
   "cell_type": "code",
   "execution_count": 78,
   "metadata": {},
   "outputs": [
    {
     "data": {
      "text/plain": [
       "(['PJ', 'JM', 'PJM'], ['P', 'PJM'])"
      ]
     },
     "execution_count": 78,
     "metadata": {},
     "output_type": "execute_result"
    }
   ],
   "source": [
    "l1 = list(ep1.keys())\n",
    "l2 = list(ep2.keys())\n",
    "l1, l2"
   ]
  },
  {
   "cell_type": "code",
   "execution_count": 75,
   "metadata": {},
   "outputs": [
    {
     "data": {
      "text/plain": [
       "{'JM', 'PJ', 'PJM'}"
      ]
     },
     "execution_count": 75,
     "metadata": {},
     "output_type": "execute_result"
    }
   ],
   "source": [
    "set(l1)"
   ]
  },
  {
   "cell_type": "code",
   "execution_count": 77,
   "metadata": {},
   "outputs": [
    {
     "data": {
      "text/plain": [
       "[(), ('J',), ('M',), ('J', 'M')]"
      ]
     },
     "execution_count": 77,
     "metadata": {},
     "output_type": "execute_result"
    }
   ],
   "source": [
    "list(powerset(l1))"
   ]
  },
  {
   "cell_type": "code",
   "execution_count": null,
   "metadata": {},
   "outputs": [],
   "source": []
  }
 ],
 "metadata": {
  "interpreter": {
   "hash": "40d3a090f54c6569ab1632332b64b2c03c39dcf918b08424e98f38b5ae0af88f"
  },
  "kernelspec": {
   "display_name": "Python 3.8.5 64-bit (conda)",
   "name": "python3"
  },
  "language_info": {
   "codemirror_mode": {
    "name": "ipython",
    "version": 3
   },
   "file_extension": ".py",
   "mimetype": "text/x-python",
   "name": "python",
   "nbconvert_exporter": "python",
   "pygments_lexer": "ipython3",
   "version": "3.8.5"
  },
  "orig_nbformat": 4
 },
 "nbformat": 4,
 "nbformat_minor": 2
}
